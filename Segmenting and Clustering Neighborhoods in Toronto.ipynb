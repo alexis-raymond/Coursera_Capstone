{
 "cells": [
  {
   "cell_type": "markdown",
   "metadata": {},
   "source": [
    "# Capstone Project"
   ]
  },
  {
   "cell_type": "markdown",
   "metadata": {},
   "source": [
    "## Segmenting and Clustering Neighborhoods in Toronto"
   ]
  },
  {
   "cell_type": "markdown",
   "metadata": {},
   "source": [
    "This notebook is **Alexis Raymond**'s submission to the *Segmenting and Clustering Neighborhoods in Toronto* portion of the data capstone project of the IBM Data Science Professional Certificate."
   ]
  },
  {
   "cell_type": "markdown",
   "metadata": {},
   "source": [
    "### Importing Useful Libraries"
   ]
  },
  {
   "cell_type": "code",
   "execution_count": 1,
   "metadata": {},
   "outputs": [],
   "source": [
    "import numpy as np # library to handle data in a vectorized manner\n",
    "import pandas as pd # library for data analsysis\n",
    "\n",
    "import json # library to handle JSON files\n",
    "\n",
    "from geopy.geocoders import Nominatim # convert an address into latitude and longitude values\n",
    "\n",
    "import requests # library to handle requests\n",
    "from pandas.io.json import json_normalize # tranform JSON file into a pandas dataframe\n",
    "\n",
    "import matplotlib as plt # library for basic data visualisations\n",
    "import seaborn as sns # library for advanced data visualisations\n",
    "\n",
    "from sklearn.cluster import KMeans # import k-means from clustering stage\n",
    "\n",
    "import folium # map rendering library"
   ]
  },
  {
   "cell_type": "markdown",
   "metadata": {},
   "source": [
    "### 1. Download and Explore Dataset"
   ]
  },
  {
   "cell_type": "markdown",
   "metadata": {},
   "source": [
    "Since the dataset needed for this project is not available to download, I need to scrape the web for the data on the neighborhoods in Toronto. Luckily, there is a wikipedia page that contains all the information needed."
   ]
  },
  {
   "cell_type": "code",
   "execution_count": 2,
   "metadata": {},
   "outputs": [],
   "source": [
    "# Get the wikipedia page's source code\n",
    "toronto_postal_codes = requests.get('https://en.wikipedia.org/wiki/List_of_postal_codes_of_Canada:_M').text"
   ]
  },
  {
   "cell_type": "code",
   "execution_count": 3,
   "metadata": {},
   "outputs": [],
   "source": [
    "# Keep only the table from the source code\n",
    "toronto_postal_codes = toronto_postal_codes[toronto_postal_codes.find('<tbody>')+7:toronto_postal_codes.find('</tbody>')]"
   ]
  },
  {
   "cell_type": "code",
   "execution_count": 4,
   "metadata": {},
   "outputs": [],
   "source": [
    "# Split the table's source code in a list of rows\n",
    "toronto_postal_codes = toronto_postal_codes.split('<tr>')[1:]"
   ]
  },
  {
   "cell_type": "code",
   "execution_count": 5,
   "metadata": {},
   "outputs": [
    {
     "data": {
      "text/html": [
       "<div>\n",
       "<style scoped>\n",
       "    .dataframe tbody tr th:only-of-type {\n",
       "        vertical-align: middle;\n",
       "    }\n",
       "\n",
       "    .dataframe tbody tr th {\n",
       "        vertical-align: top;\n",
       "    }\n",
       "\n",
       "    .dataframe thead th {\n",
       "        text-align: right;\n",
       "    }\n",
       "</style>\n",
       "<table border=\"1\" class=\"dataframe\">\n",
       "  <thead>\n",
       "    <tr style=\"text-align: right;\">\n",
       "      <th></th>\n",
       "      <th>PostalCode</th>\n",
       "      <th>Borough</th>\n",
       "      <th>Neighborhood</th>\n",
       "    </tr>\n",
       "  </thead>\n",
       "  <tbody>\n",
       "  </tbody>\n",
       "</table>\n",
       "</div>"
      ],
      "text/plain": [
       "Empty DataFrame\n",
       "Columns: [PostalCode, Borough, Neighborhood]\n",
       "Index: []"
      ]
     },
     "execution_count": 5,
     "metadata": {},
     "output_type": "execute_result"
    }
   ],
   "source": [
    "# Define the column names of the dataframe that will contain the Toronto neighborhoods\n",
    "column_names = ['PostalCode','Borough','Neighborhood']\n",
    "\n",
    "# Create the empty dataframe\n",
    "neighborhoods = pd.DataFrame(columns=column_names)\n",
    "neighborhoods"
   ]
  },
  {
   "cell_type": "code",
   "execution_count": 6,
   "metadata": {},
   "outputs": [],
   "source": [
    "# Loop through all the rows of the table and append the appropriate values to the dataframe\n",
    "for i in range(1, len(toronto_postal_codes)) : \n",
    "     \n",
    "    # Split the row in a list containing the postal code, the borough and the neighborhood\n",
    "    neighborhood_data = toronto_postal_codes[i].split('\\n')[1:-2]\n",
    "\n",
    "    # Capture the value of the postal_code\n",
    "    postal_code = neighborhood_data[0][4:-5]\n",
    "\n",
    "    # Find start and end point of the name of the borough\n",
    "    if neighborhood_data[1][4:-5].find('>') == -1 : # If the borough is not a link\n",
    "        start = 0\n",
    "        end = len(neighborhood_data[1][4:-5])\n",
    "\n",
    "    else : # If the borough is a link\n",
    "        start = neighborhood_data[1][4:-5].find('>') + 1\n",
    "        end = -4\n",
    "\n",
    "    # Capture the value of the borough\n",
    "    borough = neighborhood_data[1][4:-5][start:end]\n",
    "\n",
    "    # Find start and end point of the name of the neighborhood\n",
    "    if neighborhood_data[2][4:].find('>') == -1 : # If the neighborhood is not a link\n",
    "        start = 0\n",
    "        end = len(neighborhood_data[2][4:])\n",
    "\n",
    "    else : # If the neighborhood is a link\n",
    "        start = neighborhood_data[2][4:].find('>') + 1\n",
    "        end = -4\n",
    "\n",
    "    # Capture the value of the neighborhood\n",
    "    neighborhood = neighborhood_data[2][4:][start:end]\n",
    "\n",
    "    # Append data to dataframe\n",
    "    neighborhoods = neighborhoods.append({'PostalCode': postal_code, 'Borough': borough, 'Neighborhood': neighborhood}, ignore_index = True)"
   ]
  },
  {
   "cell_type": "code",
   "execution_count": 7,
   "metadata": {},
   "outputs": [],
   "source": [
    "# Loop through all rows\n",
    "for i in range(neighborhoods.shape[0]-1, -1, -1) :\n",
    "    \n",
    "    # Assign the borough's value if the neighborhood is not assigned\n",
    "    if neighborhoods.iloc[i]['Neighborhood'] == 'Not assigned' :\n",
    "        neighborhoods.iloc[i]['Neighborhood'] = neighborhoods.iloc[i]['Borough']\n",
    "        \n",
    "    # Combine rows with the same postal code\n",
    "    if neighborhoods.iloc[i]['PostalCode'] == neighborhoods.iloc[i-1]['PostalCode'] :\n",
    "        neighborhoods.iloc[i]['Borough'] = 'Not assigned'\n",
    "        neighborhoods.iloc[i-1]['Neighborhood'] += ', ' + neighborhoods.iloc[i]['Neighborhood']\n",
    "        \n",
    "# Drop rows with unidentified boroughs\n",
    "neighborhoods = neighborhoods[neighborhoods['Borough'] != 'Not assigned']\n",
    "\n",
    "# Reset the indexes\n",
    "neighborhoods.reset_index(drop = True, inplace = True)"
   ]
  },
  {
   "cell_type": "code",
   "execution_count": 8,
   "metadata": {},
   "outputs": [
    {
     "data": {
      "text/html": [
       "<div>\n",
       "<style scoped>\n",
       "    .dataframe tbody tr th:only-of-type {\n",
       "        vertical-align: middle;\n",
       "    }\n",
       "\n",
       "    .dataframe tbody tr th {\n",
       "        vertical-align: top;\n",
       "    }\n",
       "\n",
       "    .dataframe thead th {\n",
       "        text-align: right;\n",
       "    }\n",
       "</style>\n",
       "<table border=\"1\" class=\"dataframe\">\n",
       "  <thead>\n",
       "    <tr style=\"text-align: right;\">\n",
       "      <th></th>\n",
       "      <th>PostalCode</th>\n",
       "      <th>Borough</th>\n",
       "      <th>Neighborhood</th>\n",
       "    </tr>\n",
       "  </thead>\n",
       "  <tbody>\n",
       "    <tr>\n",
       "      <th>0</th>\n",
       "      <td>M3A</td>\n",
       "      <td>North York</td>\n",
       "      <td>Parkwoods</td>\n",
       "    </tr>\n",
       "    <tr>\n",
       "      <th>1</th>\n",
       "      <td>M4A</td>\n",
       "      <td>North York</td>\n",
       "      <td>Victoria Village</td>\n",
       "    </tr>\n",
       "    <tr>\n",
       "      <th>2</th>\n",
       "      <td>M5A</td>\n",
       "      <td>Downtown Toronto</td>\n",
       "      <td>Harbourfront, Regent Park</td>\n",
       "    </tr>\n",
       "    <tr>\n",
       "      <th>3</th>\n",
       "      <td>M6A</td>\n",
       "      <td>North York</td>\n",
       "      <td>Lawrence Heights, Lawrence Manor</td>\n",
       "    </tr>\n",
       "    <tr>\n",
       "      <th>4</th>\n",
       "      <td>M7A</td>\n",
       "      <td>Queen's Park</td>\n",
       "      <td>Queen's Park</td>\n",
       "    </tr>\n",
       "  </tbody>\n",
       "</table>\n",
       "</div>"
      ],
      "text/plain": [
       "  PostalCode           Borough                      Neighborhood\n",
       "0        M3A        North York                         Parkwoods\n",
       "1        M4A        North York                  Victoria Village\n",
       "2        M5A  Downtown Toronto         Harbourfront, Regent Park\n",
       "3        M6A        North York  Lawrence Heights, Lawrence Manor\n",
       "4        M7A      Queen's Park                      Queen's Park"
      ]
     },
     "execution_count": 8,
     "metadata": {},
     "output_type": "execute_result"
    }
   ],
   "source": [
    "# Show the first 5 entries in the dataframe\n",
    "neighborhoods.head()"
   ]
  },
  {
   "cell_type": "code",
   "execution_count": 9,
   "metadata": {},
   "outputs": [
    {
     "name": "stdout",
     "output_type": "stream",
     "text": [
      "There are 103 rows in the dataframe.\n"
     ]
    }
   ],
   "source": [
    "# Print the number of rows in the dataframe\n",
    "print('There are ' + str(neighborhoods.shape[0]) + ' rows in the dataframe.')"
   ]
  }
 ],
 "metadata": {
  "kernelspec": {
   "display_name": "Python 3",
   "language": "python",
   "name": "python3"
  },
  "language_info": {
   "codemirror_mode": {
    "name": "ipython",
    "version": 3
   },
   "file_extension": ".py",
   "mimetype": "text/x-python",
   "name": "python",
   "nbconvert_exporter": "python",
   "pygments_lexer": "ipython3",
   "version": "3.6.7"
  }
 },
 "nbformat": 4,
 "nbformat_minor": 2
}
