{
 "cells": [
  {
   "cell_type": "markdown",
   "metadata": {},
   "source": [
    "# Predicting the Success of Starbucks Locations (part 2)"
   ]
  },
  {
   "cell_type": "markdown",
   "metadata": {},
   "source": [
    "**Author**: <a href = \"https://www.linkedin.com/in/alexis-raymond-telfer/\">Alexis Raymond</a>  \n",
    "**Date Modified**: 2020-05-15"
   ]
  },
  {
   "cell_type": "markdown",
   "metadata": {},
   "source": [
    "## Table of Contents"
   ]
  },
  {
   "cell_type": "markdown",
   "metadata": {},
   "source": [
    "1. [Exploratory Data Analysis](#eda)"
   ]
  },
  {
   "cell_type": "markdown",
   "metadata": {},
   "source": [
    "## 1. Exploratory Data Analysis <a name=\"eda\"></a>"
   ]
  },
  {
   "cell_type": "markdown",
   "metadata": {},
   "source": [
    "Now that we have a clean dataframe with all the selected features for a predictive model, we can explore the data in order to gather some insights."
   ]
  },
  {
   "cell_type": "markdown",
   "metadata": {},
   "source": [
    "### Import analysis and visualization libraries"
   ]
  },
  {
   "cell_type": "code",
   "execution_count": 1,
   "metadata": {},
   "outputs": [],
   "source": [
    "import pandas as pd # library for data analysis\n",
    "import numpy as np # library to handle data in a vectorized manner\n",
    "\n",
    "import matplotlib.pyplot as plt # library for simple data visualizations\n",
    "import seaborn as sns # library for more advanced data visualizations"
   ]
  },
  {
   "cell_type": "markdown",
   "metadata": {},
   "source": [
    "### Import locations dataframe"
   ]
  },
  {
   "cell_type": "code",
   "execution_count": 2,
   "metadata": {},
   "outputs": [
    {
     "data": {
      "text/html": [
       "<div>\n",
       "<style scoped>\n",
       "    .dataframe tbody tr th:only-of-type {\n",
       "        vertical-align: middle;\n",
       "    }\n",
       "\n",
       "    .dataframe tbody tr th {\n",
       "        vertical-align: top;\n",
       "    }\n",
       "\n",
       "    .dataframe thead th {\n",
       "        text-align: right;\n",
       "    }\n",
       "</style>\n",
       "<table border=\"1\" class=\"dataframe\">\n",
       "  <thead>\n",
       "    <tr style=\"text-align: right;\">\n",
       "      <th></th>\n",
       "      <th>City</th>\n",
       "      <th>Country</th>\n",
       "      <th>Longitude</th>\n",
       "      <th>Latitude</th>\n",
       "      <th>Area</th>\n",
       "      <th>Density</th>\n",
       "      <th>ATM</th>\n",
       "      <th>Accessories Store</th>\n",
       "      <th>Acupuncturist</th>\n",
       "      <th>Adult Boutique</th>\n",
       "      <th>...</th>\n",
       "      <th>Winery</th>\n",
       "      <th>Wings Joint</th>\n",
       "      <th>Women's Store</th>\n",
       "      <th>Xinjiang Restaurant</th>\n",
       "      <th>Yoga Studio</th>\n",
       "      <th>Yoshoku Restaurant</th>\n",
       "      <th>Zoo</th>\n",
       "      <th>Zoo Exhibit</th>\n",
       "      <th>Distance to HQ</th>\n",
       "      <th>Rating</th>\n",
       "    </tr>\n",
       "  </thead>\n",
       "  <tbody>\n",
       "    <tr>\n",
       "      <th>0</th>\n",
       "      <td>San Diego</td>\n",
       "      <td>US</td>\n",
       "      <td>-116.97</td>\n",
       "      <td>32.63</td>\n",
       "      <td>842.3</td>\n",
       "      <td>1670</td>\n",
       "      <td>0.0</td>\n",
       "      <td>0.000000</td>\n",
       "      <td>0.0</td>\n",
       "      <td>0.0</td>\n",
       "      <td>...</td>\n",
       "      <td>0.00</td>\n",
       "      <td>0.0</td>\n",
       "      <td>0.0</td>\n",
       "      <td>0.0</td>\n",
       "      <td>0.0</td>\n",
       "      <td>0.0</td>\n",
       "      <td>0.0</td>\n",
       "      <td>0.0</td>\n",
       "      <td>15.884501</td>\n",
       "      <td>7.5</td>\n",
       "    </tr>\n",
       "    <tr>\n",
       "      <th>1</th>\n",
       "      <td>Dallas</td>\n",
       "      <td>US</td>\n",
       "      <td>-97.04</td>\n",
       "      <td>32.89</td>\n",
       "      <td>882.9</td>\n",
       "      <td>1493</td>\n",
       "      <td>0.0</td>\n",
       "      <td>0.027027</td>\n",
       "      <td>0.0</td>\n",
       "      <td>0.0</td>\n",
       "      <td>...</td>\n",
       "      <td>0.00</td>\n",
       "      <td>0.0</td>\n",
       "      <td>0.0</td>\n",
       "      <td>0.0</td>\n",
       "      <td>0.0</td>\n",
       "      <td>0.0</td>\n",
       "      <td>0.0</td>\n",
       "      <td>0.0</td>\n",
       "      <td>29.252424</td>\n",
       "      <td>8.2</td>\n",
       "    </tr>\n",
       "    <tr>\n",
       "      <th>2</th>\n",
       "      <td>Bellevue</td>\n",
       "      <td>US</td>\n",
       "      <td>-122.15</td>\n",
       "      <td>47.60</td>\n",
       "      <td>86.8</td>\n",
       "      <td>1630</td>\n",
       "      <td>0.0</td>\n",
       "      <td>0.000000</td>\n",
       "      <td>0.0</td>\n",
       "      <td>0.0</td>\n",
       "      <td>...</td>\n",
       "      <td>0.00</td>\n",
       "      <td>0.0</td>\n",
       "      <td>0.0</td>\n",
       "      <td>0.0</td>\n",
       "      <td>0.0</td>\n",
       "      <td>0.0</td>\n",
       "      <td>0.0</td>\n",
       "      <td>0.0</td>\n",
       "      <td>0.186999</td>\n",
       "      <td>5.7</td>\n",
       "    </tr>\n",
       "    <tr>\n",
       "      <th>3</th>\n",
       "      <td>Seattle</td>\n",
       "      <td>US</td>\n",
       "      <td>-122.33</td>\n",
       "      <td>47.57</td>\n",
       "      <td>217.0</td>\n",
       "      <td>3245</td>\n",
       "      <td>0.0</td>\n",
       "      <td>0.000000</td>\n",
       "      <td>0.0</td>\n",
       "      <td>0.0</td>\n",
       "      <td>...</td>\n",
       "      <td>0.04</td>\n",
       "      <td>0.0</td>\n",
       "      <td>0.0</td>\n",
       "      <td>0.0</td>\n",
       "      <td>0.0</td>\n",
       "      <td>0.0</td>\n",
       "      <td>0.0</td>\n",
       "      <td>0.0</td>\n",
       "      <td>0.012267</td>\n",
       "      <td>6.7</td>\n",
       "    </tr>\n",
       "    <tr>\n",
       "      <th>4</th>\n",
       "      <td>Indianapolis</td>\n",
       "      <td>US</td>\n",
       "      <td>-86.26</td>\n",
       "      <td>39.85</td>\n",
       "      <td>936.3</td>\n",
       "      <td>914</td>\n",
       "      <td>0.0</td>\n",
       "      <td>0.000000</td>\n",
       "      <td>0.0</td>\n",
       "      <td>0.0</td>\n",
       "      <td>...</td>\n",
       "      <td>0.00</td>\n",
       "      <td>0.0</td>\n",
       "      <td>0.0</td>\n",
       "      <td>0.0</td>\n",
       "      <td>0.0</td>\n",
       "      <td>0.0</td>\n",
       "      <td>0.0</td>\n",
       "      <td>0.0</td>\n",
       "      <td>36.895006</td>\n",
       "      <td>8.3</td>\n",
       "    </tr>\n",
       "  </tbody>\n",
       "</table>\n",
       "<p>5 rows × 622 columns</p>\n",
       "</div>"
      ],
      "text/plain": [
       "           City Country  Longitude  Latitude   Area  Density  ATM  \\\n",
       "0     San Diego      US    -116.97     32.63  842.3     1670  0.0   \n",
       "1        Dallas      US     -97.04     32.89  882.9     1493  0.0   \n",
       "2      Bellevue      US    -122.15     47.60   86.8     1630  0.0   \n",
       "3       Seattle      US    -122.33     47.57  217.0     3245  0.0   \n",
       "4  Indianapolis      US     -86.26     39.85  936.3      914  0.0   \n",
       "\n",
       "   Accessories Store  Acupuncturist  Adult Boutique  ...  Winery  Wings Joint  \\\n",
       "0           0.000000            0.0             0.0  ...    0.00          0.0   \n",
       "1           0.027027            0.0             0.0  ...    0.00          0.0   \n",
       "2           0.000000            0.0             0.0  ...    0.00          0.0   \n",
       "3           0.000000            0.0             0.0  ...    0.04          0.0   \n",
       "4           0.000000            0.0             0.0  ...    0.00          0.0   \n",
       "\n",
       "   Women's Store  Xinjiang Restaurant  Yoga Studio  Yoshoku Restaurant  Zoo  \\\n",
       "0            0.0                  0.0          0.0                 0.0  0.0   \n",
       "1            0.0                  0.0          0.0                 0.0  0.0   \n",
       "2            0.0                  0.0          0.0                 0.0  0.0   \n",
       "3            0.0                  0.0          0.0                 0.0  0.0   \n",
       "4            0.0                  0.0          0.0                 0.0  0.0   \n",
       "\n",
       "   Zoo Exhibit  Distance to HQ  Rating  \n",
       "0          0.0       15.884501     7.5  \n",
       "1          0.0       29.252424     8.2  \n",
       "2          0.0        0.186999     5.7  \n",
       "3          0.0        0.012267     6.7  \n",
       "4          0.0       36.895006     8.3  \n",
       "\n",
       "[5 rows x 622 columns]"
      ]
     },
     "execution_count": 2,
     "metadata": {},
     "output_type": "execute_result"
    }
   ],
   "source": [
    "starbucks_locations = pd.read_csv(\"starbucks_ratings.csv\") # Read locations dataset in dataframe\n",
    "starbucks_locations.drop(['Unnamed: 0', 'Store Number', 'Foursquare ID'], 1, inplace=True) # Drop useless columns\n",
    "starbucks_locations.head() # Show first 5 rows of dataframe"
   ]
  },
  {
   "cell_type": "markdown",
   "metadata": {},
   "source": [
    "## Analyze target feature"
   ]
  },
  {
   "cell_type": "markdown",
   "metadata": {},
   "source": [
    "The target variable for this research project is the average rating found with the Foursquare Places API for each Starbucks locations. First, let's calculate basic statistics about this feature in order to better understand it."
   ]
  },
  {
   "cell_type": "code",
   "execution_count": 3,
   "metadata": {
    "scrolled": true
   },
   "outputs": [
    {
     "data": {
      "text/plain": [
       "count    384.000000\n",
       "mean       7.638021\n",
       "std        0.647641\n",
       "min        5.500000\n",
       "25%        7.300000\n",
       "50%        7.700000\n",
       "75%        8.100000\n",
       "max        9.000000\n",
       "Name: Rating, dtype: float64"
      ]
     },
     "execution_count": 3,
     "metadata": {},
     "output_type": "execute_result"
    }
   ],
   "source": [
    "starbucks_locations['Rating'].describe() # Calculate basic statistics on the ratings"
   ]
  },
  {
   "cell_type": "markdown",
   "metadata": {},
   "source": [
    "In order to better understand the value of this rating, we must have a better idea of how it is distributed. The first step in doing so is to visualize it using an histogram."
   ]
  },
  {
   "cell_type": "code",
   "execution_count": 13,
   "metadata": {},
   "outputs": [
    {
     "data": {
      "image/png": "[encoded data removed]",
      "text/plain": [
       "<Figure size 600x400 with 1 Axes>"
      ]
     },
     "metadata": {
      "needs_background": "light"
     },
     "output_type": "display_data"
    }
   ],
   "source": [
    "fig, ax = plt.subplots(1,1, dpi = 100) # Create plot\n",
    "\n",
    "sns.distplot(starbucks_locations['Rating'], bins=15) # Create histogram with KDE for the ratings distribution\n",
    "\n",
    "ax.get_yaxis().set_ticklabels([]) # Remove y tick labels\n",
    "sns.despine(left = True) # Remove all spines except for the bottom one\n",
    "\n",
    "plt.savefig('Exported Images/ratings_dist.png') # Save histogram to PNG"
   ]
  },
  {
   "cell_type": "markdown",
   "metadata": {},
   "source": [
    "It seems like the distribution is normally centered around the value of 7.75. This makes sense knowing that its mean is 7.64 and that 50% of the ratings are between the values of 7.30 and 8.10. Now, we can represent it with a box plot in order to see if there are multiple outliers."
   ]
  },
  {
   "cell_type": "code",
   "execution_count": 5,
   "metadata": {},
   "outputs": [
    {
     "data": {
      "image/png": "[encoded data removed]",
      "text/plain": [
       "<Figure size 300x600 with 1 Axes>"
      ]
     },
     "metadata": {
      "needs_background": "light"
     },
     "output_type": "display_data"
    }
   ],
   "source": [
    "fig, ax = plt.subplots(1,1, figsize = (3, 6), dpi = 100) # Create plot\n",
    "\n",
    "sns.boxplot(y = 'Rating', data = starbucks_locations) # Create boxplot for the ratings distribution\n",
    "\n",
    "sns.despine() # Remove the top and right spines\n",
    "\n",
    "plt.savefig('Exported Images/ratings_box.png') # Save boxplot to PNG"
   ]
  },
  {
   "cell_type": "markdown",
   "metadata": {},
   "source": [
    "This boxplot tells us that there are only 5 outliers in the 384 observations and that all of them are between the value of 5.5 and 6."
   ]
  },
  {
   "cell_type": "markdown",
   "metadata": {},
   "source": [
    "## Relationship between distance to headquarter and rating"
   ]
  },
  {
   "cell_type": "markdown",
   "metadata": {},
   "source": [
    "Before starting the exploratory data analysis, one hypothesis was that the further away a Starbucks location was to the Seattle headquarters, the less successful it was. It is now time to evaluate this theory by visualizing the relationship between the two variables. "
   ]
  },
  {
   "cell_type": "code",
   "execution_count": 6,
   "metadata": {},
   "outputs": [
    {
     "data": {
      "image/png": "[encoded data removed]",
      "text/plain": [
       "<Figure size 360x360 with 1 Axes>"
      ]
     },
     "metadata": {
      "needs_background": "light"
     },
     "output_type": "display_data"
    }
   ],
   "source": [
    "sns.lmplot(x = 'Distance to HQ', y = 'Rating', data = starbucks_locations) # Create regression plot showing the relationship between the distance to HQ and rating variables\n",
    "\n",
    "plt.savefig('Exported Images/ratings_distance_regression.png') # Save regression plot to PNG"
   ]
  },
  {
   "cell_type": "code",
   "execution_count": 7,
   "metadata": {},
   "outputs": [
    {
     "data": {
      "text/html": [
       "<div>\n",
       "<style scoped>\n",
       "    .dataframe tbody tr th:only-of-type {\n",
       "        vertical-align: middle;\n",
       "    }\n",
       "\n",
       "    .dataframe tbody tr th {\n",
       "        vertical-align: top;\n",
       "    }\n",
       "\n",
       "    .dataframe thead th {\n",
       "        text-align: right;\n",
       "    }\n",
       "</style>\n",
       "<table border=\"1\" class=\"dataframe\">\n",
       "  <thead>\n",
       "    <tr style=\"text-align: right;\">\n",
       "      <th></th>\n",
       "      <th>Distance to HQ</th>\n",
       "      <th>Rating</th>\n",
       "    </tr>\n",
       "  </thead>\n",
       "  <tbody>\n",
       "    <tr>\n",
       "      <th>Distance to HQ</th>\n",
       "      <td>1.000000</td>\n",
       "      <td>0.211651</td>\n",
       "    </tr>\n",
       "    <tr>\n",
       "      <th>Rating</th>\n",
       "      <td>0.211651</td>\n",
       "      <td>1.000000</td>\n",
       "    </tr>\n",
       "  </tbody>\n",
       "</table>\n",
       "</div>"
      ],
      "text/plain": [
       "                Distance to HQ    Rating\n",
       "Distance to HQ        1.000000  0.211651\n",
       "Rating                0.211651  1.000000"
      ]
     },
     "execution_count": 7,
     "metadata": {},
     "output_type": "execute_result"
    }
   ],
   "source": [
    "starbucks_locations[['Distance to HQ', 'Rating']].corr() # Calculate correlation "
   ]
  },
  {
   "cell_type": "markdown",
   "metadata": {},
   "source": [
    "Interestingly, the linear regression plot above proves that our hypothesis was wrong. In fact, the correlation coefficient between the two variables is 0.21 which is low. On top of that, the regression slope is in the opposite direction from what was expected. Being positive, it supposes that the further away a store is from the HQ, the most successful it is. However, since the correlation is so low, we must conclude that there is no relationship between the distance to HQ and the success of the location."
   ]
  },
  {
   "cell_type": "markdown",
   "metadata": {},
   "source": [
    "## City demographics"
   ]
  },
  {
   "cell_type": "markdown",
   "metadata": {},
   "source": [
    "In order for a predictive model to be efficient, it cannot have two correlated features. Therefore, we need to verify that the area and population density variables are not tied to eachother."
   ]
  },
  {
   "cell_type": "code",
   "execution_count": 8,
   "metadata": {},
   "outputs": [
    {
     "data": {
      "text/html": [
       "<div>\n",
       "<style scoped>\n",
       "    .dataframe tbody tr th:only-of-type {\n",
       "        vertical-align: middle;\n",
       "    }\n",
       "\n",
       "    .dataframe tbody tr th {\n",
       "        vertical-align: top;\n",
       "    }\n",
       "\n",
       "    .dataframe thead th {\n",
       "        text-align: right;\n",
       "    }\n",
       "</style>\n",
       "<table border=\"1\" class=\"dataframe\">\n",
       "  <thead>\n",
       "    <tr style=\"text-align: right;\">\n",
       "      <th></th>\n",
       "      <th>Area</th>\n",
       "      <th>Density</th>\n",
       "    </tr>\n",
       "  </thead>\n",
       "  <tbody>\n",
       "    <tr>\n",
       "      <th>Area</th>\n",
       "      <td>1.000000</td>\n",
       "      <td>-0.059377</td>\n",
       "    </tr>\n",
       "    <tr>\n",
       "      <th>Density</th>\n",
       "      <td>-0.059377</td>\n",
       "      <td>1.000000</td>\n",
       "    </tr>\n",
       "  </tbody>\n",
       "</table>\n",
       "</div>"
      ],
      "text/plain": [
       "             Area   Density\n",
       "Area     1.000000 -0.059377\n",
       "Density -0.059377  1.000000"
      ]
     },
     "execution_count": 8,
     "metadata": {},
     "output_type": "execute_result"
    }
   ],
   "source": [
    "starbucks_locations[['Area', 'Density']].corr() # Calculate correlation"
   ]
  },
  {
   "cell_type": "markdown",
   "metadata": {},
   "source": [
    "As we can tell by the extremely low correlation coefficient of -0.06, there is no correlation between the area and population density variables. We can keep both variables in the model. Now, let's see if they are correlated with the location's rating."
   ]
  },
  {
   "cell_type": "code",
   "execution_count": 9,
   "metadata": {},
   "outputs": [
    {
     "data": {
      "image/png": "[encoded data removed]",
      "text/plain": [
       "<Figure size 360x360 with 1 Axes>"
      ]
     },
     "metadata": {
      "needs_background": "light"
     },
     "output_type": "display_data"
    }
   ],
   "source": [
    "sns.lmplot(x = 'Density', y = 'Rating', data = starbucks_locations) # Create regression plot showing the relationship between the population density and rating variables\n",
    "\n",
    "plt.savefig('Exported Images/ratings_density_regression.png') # Save regression plot to PNG"
   ]
  },
  {
   "cell_type": "code",
   "execution_count": 10,
   "metadata": {},
   "outputs": [
    {
     "data": {
      "image/png": "[encoded data removed]",
      "text/plain": [
       "<Figure size 360x360 with 1 Axes>"
      ]
     },
     "metadata": {
      "needs_background": "light"
     },
     "output_type": "display_data"
    }
   ],
   "source": [
    "sns.lmplot(x = 'Area', y = 'Rating', data = starbucks_locations) # Create regression plot showing the relationship between the area and rating variables\n",
    "\n",
    "plt.savefig('Exported Images/ratings_area_regression.png') # Save regression plot to PNG"
   ]
  },
  {
   "cell_type": "code",
   "execution_count": 11,
   "metadata": {},
   "outputs": [
    {
     "data": {
      "text/html": [
       "<div>\n",
       "<style scoped>\n",
       "    .dataframe tbody tr th:only-of-type {\n",
       "        vertical-align: middle;\n",
       "    }\n",
       "\n",
       "    .dataframe tbody tr th {\n",
       "        vertical-align: top;\n",
       "    }\n",
       "\n",
       "    .dataframe thead th {\n",
       "        text-align: right;\n",
       "    }\n",
       "</style>\n",
       "<table border=\"1\" class=\"dataframe\">\n",
       "  <thead>\n",
       "    <tr style=\"text-align: right;\">\n",
       "      <th></th>\n",
       "      <th>Density</th>\n",
       "      <th>Area</th>\n",
       "      <th>Rating</th>\n",
       "    </tr>\n",
       "  </thead>\n",
       "  <tbody>\n",
       "    <tr>\n",
       "      <th>Density</th>\n",
       "      <td>1.000000</td>\n",
       "      <td>-0.059377</td>\n",
       "      <td>-0.170977</td>\n",
       "    </tr>\n",
       "    <tr>\n",
       "      <th>Area</th>\n",
       "      <td>-0.059377</td>\n",
       "      <td>1.000000</td>\n",
       "      <td>-0.026415</td>\n",
       "    </tr>\n",
       "    <tr>\n",
       "      <th>Rating</th>\n",
       "      <td>-0.170977</td>\n",
       "      <td>-0.026415</td>\n",
       "      <td>1.000000</td>\n",
       "    </tr>\n",
       "  </tbody>\n",
       "</table>\n",
       "</div>"
      ],
      "text/plain": [
       "          Density      Area    Rating\n",
       "Density  1.000000 -0.059377 -0.170977\n",
       "Area    -0.059377  1.000000 -0.026415\n",
       "Rating  -0.170977 -0.026415  1.000000"
      ]
     },
     "execution_count": 11,
     "metadata": {},
     "output_type": "execute_result"
    }
   ],
   "source": [
    "starbucks_locations[['Density', 'Area', 'Rating']].corr() # Calculate correlation"
   ]
  },
  {
   "cell_type": "markdown",
   "metadata": {},
   "source": [
    "Once again, contrary to what was expected, there doesn't seem to be a correlation between the demographics of a city and the success of the Starbucks in it. In fact, the correlation coefficient between the areas and the ratings is -0.03 which is extremely low and the one between the densities and the ratings is -0.17 which is low as well."
   ]
  }
 ],
 "metadata": {
  "kernelspec": {
   "display_name": "Python 3",
   "language": "python",
   "name": "python3"
  },
  "language_info": {
   "codemirror_mode": {
    "name": "ipython",
    "version": 3
   },
   "file_extension": ".py",
   "mimetype": "text/x-python",
   "name": "python",
   "nbconvert_exporter": "python",
   "pygments_lexer": "ipython3",
   "version": "3.7.6"
  }
 },
 "nbformat": 4,
 "nbformat_minor": 2
}
